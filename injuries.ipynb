{
 "metadata": {
  "language_info": {
   "codemirror_mode": {
    "name": "ipython",
    "version": 3
   },
   "file_extension": ".py",
   "mimetype": "text/x-python",
   "name": "python",
   "nbconvert_exporter": "python",
   "pygments_lexer": "ipython3",
   "version": "3.8.2-final"
  },
  "orig_nbformat": 2,
  "kernelspec": {
   "name": "python3",
   "display_name": "Python 3",
   "language": "python"
  }
 },
 "nbformat": 4,
 "nbformat_minor": 2,
 "cells": [
  {
   "source": [
    "### Read the README.md before"
   ],
   "cell_type": "markdown",
   "metadata": {}
  },
  {
   "cell_type": "code",
   "execution_count": 1,
   "metadata": {},
   "outputs": [],
   "source": [
    "import json \n",
    "import pandas as pd \n",
    "import datetime "
   ]
  },
  {
   "source": [
    "# Import the Files"
   ],
   "cell_type": "markdown",
   "metadata": {}
  },
  {
   "cell_type": "code",
   "execution_count": 2,
   "metadata": {},
   "outputs": [],
   "source": [
    "df_relinquished = pd.read_csv('data/season_2018_relinquished.csv')\n",
    "df_acquired = pd.read_csv('data/season_2018_acquired.csv')\n",
    "df_players = pd.read_csv('data/season_2018_players.csv')\n",
    "df_teams = pd.read_csv('data/season_2018_teams.csv')\n",
    "\n",
    "with open('injury_types.json') as json_file: \n",
    "    injury_types = json.load(json_file)\n",
    "\n",
    "with open('teams_dict.json') as json_teams: \n",
    "    teams_dict = json.load(json_teams)\n"
   ]
  },
  {
   "source": [
    "***Relinquished***: When a player appears to the injury list or missed a game. \n",
    "    \n",
    "    - date of the statement, team, name of the player, notes \n",
    "\n",
    "***Acquired***: When a player is no longer on the injury list \n",
    "\n",
    "    - Same columns \n",
    "\n",
    "***Players***: Each game where a player participated\n",
    "\n",
    "    - Date, Player, Minutes played \n",
    "\n",
    "***Teams***: Each game played by a team \n",
    "\n",
    "    - Date, team\n",
    "\n",
    "***Injury Types***: Json file with keywords to describe the reason of abscence. \n",
    "     \n",
    "     - 3 reasons of abs: **injuries**, illness, personal_reasons\n",
    "     - For each reason: different detailed keywords \n",
    "     - For Injuries: different types are also detailed \n",
    "\n",
    "***Teams Dict***: Corresponding team names and abreviations\n",
    "\n"
   ],
   "cell_type": "markdown",
   "metadata": {}
  },
  {
   "cell_type": "code",
   "execution_count": 3,
   "metadata": {},
   "outputs": [],
   "source": [
    "# Transform date columns to Timestamp\n",
    "df_relinquished['date'] = pd.to_datetime(df_relinquished['date'], format = '%Y-%m-%d')\n",
    "df_acquired['date'] = pd.to_datetime(df_acquired['date'], format = '%Y-%m-%d')\n",
    "df_players['Date'] = pd.to_datetime(df_players['Date'], format = '%Y%m%d')\n",
    "df_teams['Date'] = pd.to_datetime(df_teams['Date'], format = '%Y%m%d')"
   ]
  },
  {
   "source": [
    "# Extract Datails from Relinquished "
   ],
   "cell_type": "markdown",
   "metadata": {}
  },
  {
   "cell_type": "code",
   "execution_count": 4,
   "metadata": {},
   "outputs": [
    {
     "output_type": "execute_result",
     "data": {
      "text/plain": [
       "                       key       date        team             name  \\\n",
       "0       WilsonD20181017rel 2018-10-17       Bucks      D.J. Wilson   \n",
       "1        DuvalT20181017rel 2018-10-17       Bucks     Trevon Duval   \n",
       "2        SmithJ20181017rel 2018-10-17   Cavaliers       J.R. Smith   \n",
       "3        NanceL20181017rel 2018-10-17   Cavaliers  Larry Nance Jr.   \n",
       "4     WatanabeY20181017rel 2018-10-17   Grizzlies    Yuta Watanabe   \n",
       "...                    ...        ...         ...              ...   \n",
       "1494  IguodalaA20190520rel 2019-05-20    Warriors   Andre Iguodala   \n",
       "1495    LooneyK20190603rel 2019-06-03    Warriors     Kevon Looney   \n",
       "1496    LooneyK20190605rel 2019-06-05    Warriors     Kevon Looney   \n",
       "1497  ThompsonK20190605rel 2019-06-05    Warriors    Klay Thompson   \n",
       "1498    DurantK20190612rel 2019-06-12    Warriors     Kevin Durant   \n",
       "\n",
       "                                             notes  \n",
       "0       placed on IL with strained right hamstring  \n",
       "1                            left eye injury (DTD)  \n",
       "2                           sore right elbow (DTD)  \n",
       "3           placed on IL with sprained right ankle  \n",
       "4                                     placed on IL  \n",
       "...                                            ...  \n",
       "1494            placed on IL with left calf injury  \n",
       "1495       fractured collarbone (out indefinitely)  \n",
       "1496        placed on IL with fractured collarbone  \n",
       "1497                 strained left hamstring (DTD)  \n",
       "1498   torn right Achilles tendon (out for season)  \n",
       "\n",
       "[1499 rows x 5 columns]"
      ],
      "text/html": "<div>\n<style scoped>\n    .dataframe tbody tr th:only-of-type {\n        vertical-align: middle;\n    }\n\n    .dataframe tbody tr th {\n        vertical-align: top;\n    }\n\n    .dataframe thead th {\n        text-align: right;\n    }\n</style>\n<table border=\"1\" class=\"dataframe\">\n  <thead>\n    <tr style=\"text-align: right;\">\n      <th></th>\n      <th>key</th>\n      <th>date</th>\n      <th>team</th>\n      <th>name</th>\n      <th>notes</th>\n    </tr>\n  </thead>\n  <tbody>\n    <tr>\n      <th>0</th>\n      <td>WilsonD20181017rel</td>\n      <td>2018-10-17</td>\n      <td>Bucks</td>\n      <td>D.J. Wilson</td>\n      <td>placed on IL with strained right hamstring</td>\n    </tr>\n    <tr>\n      <th>1</th>\n      <td>DuvalT20181017rel</td>\n      <td>2018-10-17</td>\n      <td>Bucks</td>\n      <td>Trevon Duval</td>\n      <td>left eye injury (DTD)</td>\n    </tr>\n    <tr>\n      <th>2</th>\n      <td>SmithJ20181017rel</td>\n      <td>2018-10-17</td>\n      <td>Cavaliers</td>\n      <td>J.R. Smith</td>\n      <td>sore right elbow (DTD)</td>\n    </tr>\n    <tr>\n      <th>3</th>\n      <td>NanceL20181017rel</td>\n      <td>2018-10-17</td>\n      <td>Cavaliers</td>\n      <td>Larry Nance Jr.</td>\n      <td>placed on IL with sprained right ankle</td>\n    </tr>\n    <tr>\n      <th>4</th>\n      <td>WatanabeY20181017rel</td>\n      <td>2018-10-17</td>\n      <td>Grizzlies</td>\n      <td>Yuta Watanabe</td>\n      <td>placed on IL</td>\n    </tr>\n    <tr>\n      <th>...</th>\n      <td>...</td>\n      <td>...</td>\n      <td>...</td>\n      <td>...</td>\n      <td>...</td>\n    </tr>\n    <tr>\n      <th>1494</th>\n      <td>IguodalaA20190520rel</td>\n      <td>2019-05-20</td>\n      <td>Warriors</td>\n      <td>Andre Iguodala</td>\n      <td>placed on IL with left calf injury</td>\n    </tr>\n    <tr>\n      <th>1495</th>\n      <td>LooneyK20190603rel</td>\n      <td>2019-06-03</td>\n      <td>Warriors</td>\n      <td>Kevon Looney</td>\n      <td>fractured collarbone (out indefinitely)</td>\n    </tr>\n    <tr>\n      <th>1496</th>\n      <td>LooneyK20190605rel</td>\n      <td>2019-06-05</td>\n      <td>Warriors</td>\n      <td>Kevon Looney</td>\n      <td>placed on IL with fractured collarbone</td>\n    </tr>\n    <tr>\n      <th>1497</th>\n      <td>ThompsonK20190605rel</td>\n      <td>2019-06-05</td>\n      <td>Warriors</td>\n      <td>Klay Thompson</td>\n      <td>strained left hamstring (DTD)</td>\n    </tr>\n    <tr>\n      <th>1498</th>\n      <td>DurantK20190612rel</td>\n      <td>2019-06-12</td>\n      <td>Warriors</td>\n      <td>Kevin Durant</td>\n      <td>torn right Achilles tendon (out for season)</td>\n    </tr>\n  </tbody>\n</table>\n<p>1499 rows × 5 columns</p>\n</div>"
     },
     "metadata": {},
     "execution_count": 4
    }
   ],
   "source": [
    "df_injuries = df_relinquished.copy()\n",
    "df_injuries"
   ]
  },
  {
   "source": [
    "Instead of doing basic NLP with word recognition (like some people on Kaggle already did), I prefer using a list of body parts and injuries types. I believe this method can lead to a more precise analysis. "
   ],
   "cell_type": "markdown",
   "metadata": {}
  },
  {
   "cell_type": "code",
   "execution_count": 5,
   "metadata": {
    "tags": []
   },
   "outputs": [],
   "source": [
    "reasons = []\n",
    "types = []\n",
    "injury_locations = []\n",
    "for note in df_injuries['notes']: \n",
    "\n",
    "    if len([ele for ele in injury_types['injuries'] if ele in note]) > 0: \n",
    "        reason = 'injury'\n",
    "        type_ = [ele for ele in injury_types['types'] if ele in note]\n",
    "        injury_location = [ele for ele in injury_types['injuries'] if ele in note]\n",
    "\n",
    "    elif len([ele for ele in injury_types['personal_reasons'] if ele in note]) > 0: \n",
    "        reason = 'personal_reasons'\n",
    "        type_ = [ele for ele in injury_types['personal_reasons'] if ele in note]\n",
    "        injury_location = None\n",
    "\n",
    "    else: \n",
    "        reason = 'illness'\n",
    "        if len([ele for ele in injury_types['illness'] if ele in note]) > 0: \n",
    "            type_ = [ele for ele in injury_types['illness'] if ele in note]\n",
    "        else: \n",
    "            type_ = None \n",
    "        injury_location = None\n",
    "    \n",
    "    reasons.append(reason)\n",
    "    if (type_ == None) or (type_ == []): \n",
    "        types.append(type_)\n",
    "    else: \n",
    "        types.append(type_[0])\n",
    "    \n",
    "    if (injury_location == None) or (type == []): \n",
    "        injury_locations.append(injury_location)\n",
    "    else: \n",
    "        injury_locations.append(injury_location[0])\n"
   ]
  },
  {
   "cell_type": "code",
   "execution_count": 6,
   "metadata": {},
   "outputs": [
    {
     "output_type": "execute_result",
     "data": {
      "text/plain": [
       "                       key       date        team             name  \\\n",
       "0       WilsonD20181017rel 2018-10-17       Bucks      D.J. Wilson   \n",
       "1        DuvalT20181017rel 2018-10-17       Bucks     Trevon Duval   \n",
       "2        SmithJ20181017rel 2018-10-17   Cavaliers       J.R. Smith   \n",
       "3        NanceL20181017rel 2018-10-17   Cavaliers  Larry Nance Jr.   \n",
       "4     WatanabeY20181017rel 2018-10-17   Grizzlies    Yuta Watanabe   \n",
       "...                    ...        ...         ...              ...   \n",
       "1494  IguodalaA20190520rel 2019-05-20    Warriors   Andre Iguodala   \n",
       "1495    LooneyK20190603rel 2019-06-03    Warriors     Kevon Looney   \n",
       "1496    LooneyK20190605rel 2019-06-05    Warriors     Kevon Looney   \n",
       "1497  ThompsonK20190605rel 2019-06-05    Warriors    Klay Thompson   \n",
       "1498    DurantK20190612rel 2019-06-12    Warriors     Kevin Durant   \n",
       "\n",
       "                                             notes   reason      type  \\\n",
       "0       placed on IL with strained right hamstring   injury  strained   \n",
       "1                            left eye injury (DTD)   injury    injury   \n",
       "2                           sore right elbow (DTD)   injury      sore   \n",
       "3           placed on IL with sprained right ankle   injury  sprained   \n",
       "4                                     placed on IL  illness      None   \n",
       "...                                            ...      ...       ...   \n",
       "1494            placed on IL with left calf injury   injury    injury   \n",
       "1495       fractured collarbone (out indefinitely)  illness      None   \n",
       "1496        placed on IL with fractured collarbone  illness      None   \n",
       "1497                 strained left hamstring (DTD)   injury  strained   \n",
       "1498   torn right Achilles tendon (out for season)   injury      torn   \n",
       "\n",
       "     injury_location  \n",
       "0          hamstring  \n",
       "1                eye  \n",
       "2              elbow  \n",
       "3              ankle  \n",
       "4               None  \n",
       "...              ...  \n",
       "1494            calf  \n",
       "1495            None  \n",
       "1496            None  \n",
       "1497       hamstring  \n",
       "1498        Achilles  \n",
       "\n",
       "[1499 rows x 8 columns]"
      ],
      "text/html": "<div>\n<style scoped>\n    .dataframe tbody tr th:only-of-type {\n        vertical-align: middle;\n    }\n\n    .dataframe tbody tr th {\n        vertical-align: top;\n    }\n\n    .dataframe thead th {\n        text-align: right;\n    }\n</style>\n<table border=\"1\" class=\"dataframe\">\n  <thead>\n    <tr style=\"text-align: right;\">\n      <th></th>\n      <th>key</th>\n      <th>date</th>\n      <th>team</th>\n      <th>name</th>\n      <th>notes</th>\n      <th>reason</th>\n      <th>type</th>\n      <th>injury_location</th>\n    </tr>\n  </thead>\n  <tbody>\n    <tr>\n      <th>0</th>\n      <td>WilsonD20181017rel</td>\n      <td>2018-10-17</td>\n      <td>Bucks</td>\n      <td>D.J. Wilson</td>\n      <td>placed on IL with strained right hamstring</td>\n      <td>injury</td>\n      <td>strained</td>\n      <td>hamstring</td>\n    </tr>\n    <tr>\n      <th>1</th>\n      <td>DuvalT20181017rel</td>\n      <td>2018-10-17</td>\n      <td>Bucks</td>\n      <td>Trevon Duval</td>\n      <td>left eye injury (DTD)</td>\n      <td>injury</td>\n      <td>injury</td>\n      <td>eye</td>\n    </tr>\n    <tr>\n      <th>2</th>\n      <td>SmithJ20181017rel</td>\n      <td>2018-10-17</td>\n      <td>Cavaliers</td>\n      <td>J.R. Smith</td>\n      <td>sore right elbow (DTD)</td>\n      <td>injury</td>\n      <td>sore</td>\n      <td>elbow</td>\n    </tr>\n    <tr>\n      <th>3</th>\n      <td>NanceL20181017rel</td>\n      <td>2018-10-17</td>\n      <td>Cavaliers</td>\n      <td>Larry Nance Jr.</td>\n      <td>placed on IL with sprained right ankle</td>\n      <td>injury</td>\n      <td>sprained</td>\n      <td>ankle</td>\n    </tr>\n    <tr>\n      <th>4</th>\n      <td>WatanabeY20181017rel</td>\n      <td>2018-10-17</td>\n      <td>Grizzlies</td>\n      <td>Yuta Watanabe</td>\n      <td>placed on IL</td>\n      <td>illness</td>\n      <td>None</td>\n      <td>None</td>\n    </tr>\n    <tr>\n      <th>...</th>\n      <td>...</td>\n      <td>...</td>\n      <td>...</td>\n      <td>...</td>\n      <td>...</td>\n      <td>...</td>\n      <td>...</td>\n      <td>...</td>\n    </tr>\n    <tr>\n      <th>1494</th>\n      <td>IguodalaA20190520rel</td>\n      <td>2019-05-20</td>\n      <td>Warriors</td>\n      <td>Andre Iguodala</td>\n      <td>placed on IL with left calf injury</td>\n      <td>injury</td>\n      <td>injury</td>\n      <td>calf</td>\n    </tr>\n    <tr>\n      <th>1495</th>\n      <td>LooneyK20190603rel</td>\n      <td>2019-06-03</td>\n      <td>Warriors</td>\n      <td>Kevon Looney</td>\n      <td>fractured collarbone (out indefinitely)</td>\n      <td>illness</td>\n      <td>None</td>\n      <td>None</td>\n    </tr>\n    <tr>\n      <th>1496</th>\n      <td>LooneyK20190605rel</td>\n      <td>2019-06-05</td>\n      <td>Warriors</td>\n      <td>Kevon Looney</td>\n      <td>placed on IL with fractured collarbone</td>\n      <td>illness</td>\n      <td>None</td>\n      <td>None</td>\n    </tr>\n    <tr>\n      <th>1497</th>\n      <td>ThompsonK20190605rel</td>\n      <td>2019-06-05</td>\n      <td>Warriors</td>\n      <td>Klay Thompson</td>\n      <td>strained left hamstring (DTD)</td>\n      <td>injury</td>\n      <td>strained</td>\n      <td>hamstring</td>\n    </tr>\n    <tr>\n      <th>1498</th>\n      <td>DurantK20190612rel</td>\n      <td>2019-06-12</td>\n      <td>Warriors</td>\n      <td>Kevin Durant</td>\n      <td>torn right Achilles tendon (out for season)</td>\n      <td>injury</td>\n      <td>torn</td>\n      <td>Achilles</td>\n    </tr>\n  </tbody>\n</table>\n<p>1499 rows × 8 columns</p>\n</div>"
     },
     "metadata": {},
     "execution_count": 6
    }
   ],
   "source": [
    "df_injuries['reason'] = reasons\n",
    "df_injuries['type'] = types\n",
    "df_injuries['injury_location'] = injury_locations\n",
    "df_injuries"
   ]
  },
  {
   "source": [
    "# Merge with Acquired "
   ],
   "cell_type": "markdown",
   "metadata": {}
  },
  {
   "cell_type": "code",
   "execution_count": 7,
   "metadata": {},
   "outputs": [],
   "source": [
    "missed_games = []\n",
    "missed_days = []\n",
    "return_dates = []\n",
    "\n",
    "for i in range(len(df_injuries)): \n",
    "    name = df_injuries.iloc[i]['name']\n",
    "    team = df_injuries.iloc[i]['team']  \n",
    "    statement_date = df_injuries.iloc[i]['date']\n",
    "\n",
    "    name_acquired = df_acquired[(df_acquired['name'] == name) & (df_acquired['date'] > statement_date)]\n",
    "\n",
    "    player = df_players[(df_players['Team'] == name) & (df_players['Date'] > statement_date)]\n",
    "    \n",
    "    if len(player) == 0: # Temporary line. Some names aren't the same between my Injuries data and my game data. \n",
    "        missed_games.append(None)\n",
    "        missed_days.append(None)\n",
    "        return_dates.append(None)\n",
    "        continue \n",
    "\n",
    "    team = teams_dict[team]\n",
    "    team_calendar = df_teams[(df_teams['Team']== team) & (df_teams['Date'] > statement_date)]\n",
    "\n",
    "    if len(name_acquired) > 0: # We find the end of the absence of the player on the acquired dataset. \n",
    "        return_date = name_acquired.iloc[0]['date']\n",
    "        \n",
    "        # Double check with the game data \n",
    "        next_game_played = player.iloc[0]['Date']\n",
    "        if next_game_played < return_date: # We double check this date with the next game he played, based on a game dataset. \n",
    "            return_date = next_game_played # We change the return_date if the older one wasn't correct. \n",
    "    elif len(player) > 0: \n",
    "        return_date = player.iloc[0]['Date']\n",
    "    else: \n",
    "        return_date = 'Still absent or Retired' # TODO: Chech if the player is retired or not\n",
    "\n",
    "\n",
    "    return_dates.append(return_date)\n",
    "    if isinstance(return_date, str):\n",
    "        missed_games.append(None)\n",
    "        missed_days.append(None)\n",
    "        \n",
    "    else:\n",
    "        missed_days.append((return_date - statement_date).days) # Calculated days between the begining and the end of the absence\n",
    "        missed_games.append(len(team_calendar[team_calendar['Date'] < return_date])) # During this period, we calculate the number of games his team played, and so he missed\n",
    "\n"
   ]
  },
  {
   "cell_type": "code",
   "execution_count": 8,
   "metadata": {},
   "outputs": [
    {
     "output_type": "execute_result",
     "data": {
      "text/plain": [
       "                       key       date        team             name  \\\n",
       "0       WilsonD20181017rel 2018-10-17       Bucks      D.J. Wilson   \n",
       "1        DuvalT20181017rel 2018-10-17       Bucks     Trevon Duval   \n",
       "2        SmithJ20181017rel 2018-10-17   Cavaliers       J.R. Smith   \n",
       "3        NanceL20181017rel 2018-10-17   Cavaliers  Larry Nance Jr.   \n",
       "4     WatanabeY20181017rel 2018-10-17   Grizzlies    Yuta Watanabe   \n",
       "...                    ...        ...         ...              ...   \n",
       "1494  IguodalaA20190520rel 2019-05-20    Warriors   Andre Iguodala   \n",
       "1495    LooneyK20190603rel 2019-06-03    Warriors     Kevon Looney   \n",
       "1496    LooneyK20190605rel 2019-06-05    Warriors     Kevon Looney   \n",
       "1497  ThompsonK20190605rel 2019-06-05    Warriors    Klay Thompson   \n",
       "1498    DurantK20190612rel 2019-06-12    Warriors     Kevin Durant   \n",
       "\n",
       "                                             notes   reason      type  \\\n",
       "0       placed on IL with strained right hamstring   injury  strained   \n",
       "1                            left eye injury (DTD)   injury    injury   \n",
       "2                           sore right elbow (DTD)   injury      sore   \n",
       "3           placed on IL with sprained right ankle   injury  sprained   \n",
       "4                                     placed on IL  illness      None   \n",
       "...                                            ...      ...       ...   \n",
       "1494            placed on IL with left calf injury   injury    injury   \n",
       "1495       fractured collarbone (out indefinitely)  illness      None   \n",
       "1496        placed on IL with fractured collarbone  illness      None   \n",
       "1497                 strained left hamstring (DTD)   injury  strained   \n",
       "1498   torn right Achilles tendon (out for season)   injury      torn   \n",
       "\n",
       "     injury_location  missed_days  missed_games return_date  \n",
       "0          hamstring         49.0          21.0  2018-12-05  \n",
       "1                eye        114.0          52.0  2019-02-08  \n",
       "2              elbow          2.0           0.0  2018-10-19  \n",
       "3              ankle          NaN           NaN         NaT  \n",
       "4               None         10.0           3.0  2018-10-27  \n",
       "...              ...          ...           ...         ...  \n",
       "1494            calf         10.0           0.0  2019-05-30  \n",
       "1495            None          4.0           1.0  2019-06-07  \n",
       "1496            None          2.0           0.0  2019-06-07  \n",
       "1497       hamstring          2.0           0.0  2019-06-07  \n",
       "1498        Achilles          NaN           NaN         NaT  \n",
       "\n",
       "[1499 rows x 11 columns]"
      ],
      "text/html": "<div>\n<style scoped>\n    .dataframe tbody tr th:only-of-type {\n        vertical-align: middle;\n    }\n\n    .dataframe tbody tr th {\n        vertical-align: top;\n    }\n\n    .dataframe thead th {\n        text-align: right;\n    }\n</style>\n<table border=\"1\" class=\"dataframe\">\n  <thead>\n    <tr style=\"text-align: right;\">\n      <th></th>\n      <th>key</th>\n      <th>date</th>\n      <th>team</th>\n      <th>name</th>\n      <th>notes</th>\n      <th>reason</th>\n      <th>type</th>\n      <th>injury_location</th>\n      <th>missed_days</th>\n      <th>missed_games</th>\n      <th>return_date</th>\n    </tr>\n  </thead>\n  <tbody>\n    <tr>\n      <th>0</th>\n      <td>WilsonD20181017rel</td>\n      <td>2018-10-17</td>\n      <td>Bucks</td>\n      <td>D.J. Wilson</td>\n      <td>placed on IL with strained right hamstring</td>\n      <td>injury</td>\n      <td>strained</td>\n      <td>hamstring</td>\n      <td>49.0</td>\n      <td>21.0</td>\n      <td>2018-12-05</td>\n    </tr>\n    <tr>\n      <th>1</th>\n      <td>DuvalT20181017rel</td>\n      <td>2018-10-17</td>\n      <td>Bucks</td>\n      <td>Trevon Duval</td>\n      <td>left eye injury (DTD)</td>\n      <td>injury</td>\n      <td>injury</td>\n      <td>eye</td>\n      <td>114.0</td>\n      <td>52.0</td>\n      <td>2019-02-08</td>\n    </tr>\n    <tr>\n      <th>2</th>\n      <td>SmithJ20181017rel</td>\n      <td>2018-10-17</td>\n      <td>Cavaliers</td>\n      <td>J.R. Smith</td>\n      <td>sore right elbow (DTD)</td>\n      <td>injury</td>\n      <td>sore</td>\n      <td>elbow</td>\n      <td>2.0</td>\n      <td>0.0</td>\n      <td>2018-10-19</td>\n    </tr>\n    <tr>\n      <th>3</th>\n      <td>NanceL20181017rel</td>\n      <td>2018-10-17</td>\n      <td>Cavaliers</td>\n      <td>Larry Nance Jr.</td>\n      <td>placed on IL with sprained right ankle</td>\n      <td>injury</td>\n      <td>sprained</td>\n      <td>ankle</td>\n      <td>NaN</td>\n      <td>NaN</td>\n      <td>NaT</td>\n    </tr>\n    <tr>\n      <th>4</th>\n      <td>WatanabeY20181017rel</td>\n      <td>2018-10-17</td>\n      <td>Grizzlies</td>\n      <td>Yuta Watanabe</td>\n      <td>placed on IL</td>\n      <td>illness</td>\n      <td>None</td>\n      <td>None</td>\n      <td>10.0</td>\n      <td>3.0</td>\n      <td>2018-10-27</td>\n    </tr>\n    <tr>\n      <th>...</th>\n      <td>...</td>\n      <td>...</td>\n      <td>...</td>\n      <td>...</td>\n      <td>...</td>\n      <td>...</td>\n      <td>...</td>\n      <td>...</td>\n      <td>...</td>\n      <td>...</td>\n      <td>...</td>\n    </tr>\n    <tr>\n      <th>1494</th>\n      <td>IguodalaA20190520rel</td>\n      <td>2019-05-20</td>\n      <td>Warriors</td>\n      <td>Andre Iguodala</td>\n      <td>placed on IL with left calf injury</td>\n      <td>injury</td>\n      <td>injury</td>\n      <td>calf</td>\n      <td>10.0</td>\n      <td>0.0</td>\n      <td>2019-05-30</td>\n    </tr>\n    <tr>\n      <th>1495</th>\n      <td>LooneyK20190603rel</td>\n      <td>2019-06-03</td>\n      <td>Warriors</td>\n      <td>Kevon Looney</td>\n      <td>fractured collarbone (out indefinitely)</td>\n      <td>illness</td>\n      <td>None</td>\n      <td>None</td>\n      <td>4.0</td>\n      <td>1.0</td>\n      <td>2019-06-07</td>\n    </tr>\n    <tr>\n      <th>1496</th>\n      <td>LooneyK20190605rel</td>\n      <td>2019-06-05</td>\n      <td>Warriors</td>\n      <td>Kevon Looney</td>\n      <td>placed on IL with fractured collarbone</td>\n      <td>illness</td>\n      <td>None</td>\n      <td>None</td>\n      <td>2.0</td>\n      <td>0.0</td>\n      <td>2019-06-07</td>\n    </tr>\n    <tr>\n      <th>1497</th>\n      <td>ThompsonK20190605rel</td>\n      <td>2019-06-05</td>\n      <td>Warriors</td>\n      <td>Klay Thompson</td>\n      <td>strained left hamstring (DTD)</td>\n      <td>injury</td>\n      <td>strained</td>\n      <td>hamstring</td>\n      <td>2.0</td>\n      <td>0.0</td>\n      <td>2019-06-07</td>\n    </tr>\n    <tr>\n      <th>1498</th>\n      <td>DurantK20190612rel</td>\n      <td>2019-06-12</td>\n      <td>Warriors</td>\n      <td>Kevin Durant</td>\n      <td>torn right Achilles tendon (out for season)</td>\n      <td>injury</td>\n      <td>torn</td>\n      <td>Achilles</td>\n      <td>NaN</td>\n      <td>NaN</td>\n      <td>NaT</td>\n    </tr>\n  </tbody>\n</table>\n<p>1499 rows × 11 columns</p>\n</div>"
     },
     "metadata": {},
     "execution_count": 8
    }
   ],
   "source": [
    "df_injuries['missed_days'] = missed_days\n",
    "df_injuries['missed_games'] = missed_games\n",
    "df_injuries['return_date'] = return_dates\n",
    "df_injuries"
   ]
  },
  {
   "source": [
    "# Analysis\n",
    "NOTE: Some duplicates can be found in the dataset. i'll check these in a later version"
   ],
   "cell_type": "markdown",
   "metadata": {}
  },
  {
   "cell_type": "code",
   "execution_count": 9,
   "metadata": {},
   "outputs": [
    {
     "output_type": "execute_result",
     "data": {
      "text/plain": [
       "                       key       date        team             name  \\\n",
       "0       WilsonD20181017rel 2018-10-17       Bucks      D.J. Wilson   \n",
       "1        DuvalT20181017rel 2018-10-17       Bucks     Trevon Duval   \n",
       "2        SmithJ20181017rel 2018-10-17   Cavaliers       J.R. Smith   \n",
       "4     WatanabeY20181017rel 2018-10-17   Grizzlies    Yuta Watanabe   \n",
       "5     HamiltonD20181017rel 2018-10-17       Hawks  Daniel Hamilton   \n",
       "...                    ...        ...         ...              ...   \n",
       "1493    WilsonD20190519rel 2019-05-19       Bucks      D.J. Wilson   \n",
       "1494  IguodalaA20190520rel 2019-05-20    Warriors   Andre Iguodala   \n",
       "1495    LooneyK20190603rel 2019-06-03    Warriors     Kevon Looney   \n",
       "1496    LooneyK20190605rel 2019-06-05    Warriors     Kevon Looney   \n",
       "1497  ThompsonK20190605rel 2019-06-05    Warriors    Klay Thompson   \n",
       "\n",
       "                                                  notes   reason      type  \\\n",
       "0            placed on IL with strained right hamstring   injury  strained   \n",
       "1                                 left eye injury (DTD)   injury    injury   \n",
       "2                                sore right elbow (DTD)   injury      sore   \n",
       "4                                          placed on IL  illness      None   \n",
       "5      torn rotator cuff in shoulder (out indefinitely)   injury      torn   \n",
       "...                                                 ...      ...       ...   \n",
       "1493                              sore left ankle (DTD)   injury      sore   \n",
       "1494                 placed on IL with left calf injury   injury    injury   \n",
       "1495            fractured collarbone (out indefinitely)  illness      None   \n",
       "1496             placed on IL with fractured collarbone  illness      None   \n",
       "1497                      strained left hamstring (DTD)   injury  strained   \n",
       "\n",
       "     injury_location  missed_days  missed_games return_date  \n",
       "0          hamstring         49.0          21.0  2018-12-05  \n",
       "1                eye        114.0          52.0  2019-02-08  \n",
       "2              elbow          2.0           0.0  2018-10-19  \n",
       "4               None         10.0           3.0  2018-10-27  \n",
       "5           shoulder         14.0           6.0  2018-10-31  \n",
       "...              ...          ...           ...         ...  \n",
       "1493           ankle          2.0           0.0  2019-05-21  \n",
       "1494            calf         10.0           0.0  2019-05-30  \n",
       "1495            None          4.0           1.0  2019-06-07  \n",
       "1496            None          2.0           0.0  2019-06-07  \n",
       "1497       hamstring          2.0           0.0  2019-06-07  \n",
       "\n",
       "[1170 rows x 11 columns]"
      ],
      "text/html": "<div>\n<style scoped>\n    .dataframe tbody tr th:only-of-type {\n        vertical-align: middle;\n    }\n\n    .dataframe tbody tr th {\n        vertical-align: top;\n    }\n\n    .dataframe thead th {\n        text-align: right;\n    }\n</style>\n<table border=\"1\" class=\"dataframe\">\n  <thead>\n    <tr style=\"text-align: right;\">\n      <th></th>\n      <th>key</th>\n      <th>date</th>\n      <th>team</th>\n      <th>name</th>\n      <th>notes</th>\n      <th>reason</th>\n      <th>type</th>\n      <th>injury_location</th>\n      <th>missed_days</th>\n      <th>missed_games</th>\n      <th>return_date</th>\n    </tr>\n  </thead>\n  <tbody>\n    <tr>\n      <th>0</th>\n      <td>WilsonD20181017rel</td>\n      <td>2018-10-17</td>\n      <td>Bucks</td>\n      <td>D.J. Wilson</td>\n      <td>placed on IL with strained right hamstring</td>\n      <td>injury</td>\n      <td>strained</td>\n      <td>hamstring</td>\n      <td>49.0</td>\n      <td>21.0</td>\n      <td>2018-12-05</td>\n    </tr>\n    <tr>\n      <th>1</th>\n      <td>DuvalT20181017rel</td>\n      <td>2018-10-17</td>\n      <td>Bucks</td>\n      <td>Trevon Duval</td>\n      <td>left eye injury (DTD)</td>\n      <td>injury</td>\n      <td>injury</td>\n      <td>eye</td>\n      <td>114.0</td>\n      <td>52.0</td>\n      <td>2019-02-08</td>\n    </tr>\n    <tr>\n      <th>2</th>\n      <td>SmithJ20181017rel</td>\n      <td>2018-10-17</td>\n      <td>Cavaliers</td>\n      <td>J.R. Smith</td>\n      <td>sore right elbow (DTD)</td>\n      <td>injury</td>\n      <td>sore</td>\n      <td>elbow</td>\n      <td>2.0</td>\n      <td>0.0</td>\n      <td>2018-10-19</td>\n    </tr>\n    <tr>\n      <th>4</th>\n      <td>WatanabeY20181017rel</td>\n      <td>2018-10-17</td>\n      <td>Grizzlies</td>\n      <td>Yuta Watanabe</td>\n      <td>placed on IL</td>\n      <td>illness</td>\n      <td>None</td>\n      <td>None</td>\n      <td>10.0</td>\n      <td>3.0</td>\n      <td>2018-10-27</td>\n    </tr>\n    <tr>\n      <th>5</th>\n      <td>HamiltonD20181017rel</td>\n      <td>2018-10-17</td>\n      <td>Hawks</td>\n      <td>Daniel Hamilton</td>\n      <td>torn rotator cuff in shoulder (out indefinitely)</td>\n      <td>injury</td>\n      <td>torn</td>\n      <td>shoulder</td>\n      <td>14.0</td>\n      <td>6.0</td>\n      <td>2018-10-31</td>\n    </tr>\n    <tr>\n      <th>...</th>\n      <td>...</td>\n      <td>...</td>\n      <td>...</td>\n      <td>...</td>\n      <td>...</td>\n      <td>...</td>\n      <td>...</td>\n      <td>...</td>\n      <td>...</td>\n      <td>...</td>\n      <td>...</td>\n    </tr>\n    <tr>\n      <th>1493</th>\n      <td>WilsonD20190519rel</td>\n      <td>2019-05-19</td>\n      <td>Bucks</td>\n      <td>D.J. Wilson</td>\n      <td>sore left ankle (DTD)</td>\n      <td>injury</td>\n      <td>sore</td>\n      <td>ankle</td>\n      <td>2.0</td>\n      <td>0.0</td>\n      <td>2019-05-21</td>\n    </tr>\n    <tr>\n      <th>1494</th>\n      <td>IguodalaA20190520rel</td>\n      <td>2019-05-20</td>\n      <td>Warriors</td>\n      <td>Andre Iguodala</td>\n      <td>placed on IL with left calf injury</td>\n      <td>injury</td>\n      <td>injury</td>\n      <td>calf</td>\n      <td>10.0</td>\n      <td>0.0</td>\n      <td>2019-05-30</td>\n    </tr>\n    <tr>\n      <th>1495</th>\n      <td>LooneyK20190603rel</td>\n      <td>2019-06-03</td>\n      <td>Warriors</td>\n      <td>Kevon Looney</td>\n      <td>fractured collarbone (out indefinitely)</td>\n      <td>illness</td>\n      <td>None</td>\n      <td>None</td>\n      <td>4.0</td>\n      <td>1.0</td>\n      <td>2019-06-07</td>\n    </tr>\n    <tr>\n      <th>1496</th>\n      <td>LooneyK20190605rel</td>\n      <td>2019-06-05</td>\n      <td>Warriors</td>\n      <td>Kevon Looney</td>\n      <td>placed on IL with fractured collarbone</td>\n      <td>illness</td>\n      <td>None</td>\n      <td>None</td>\n      <td>2.0</td>\n      <td>0.0</td>\n      <td>2019-06-07</td>\n    </tr>\n    <tr>\n      <th>1497</th>\n      <td>ThompsonK20190605rel</td>\n      <td>2019-06-05</td>\n      <td>Warriors</td>\n      <td>Klay Thompson</td>\n      <td>strained left hamstring (DTD)</td>\n      <td>injury</td>\n      <td>strained</td>\n      <td>hamstring</td>\n      <td>2.0</td>\n      <td>0.0</td>\n      <td>2019-06-07</td>\n    </tr>\n  </tbody>\n</table>\n<p>1170 rows × 11 columns</p>\n</div>"
     },
     "metadata": {},
     "execution_count": 9
    }
   ],
   "source": [
    "df_analysis = df_injuries.dropna( subset = ['missed_days']) # For the analysis we remove all the absence we are unsure about their end. \n",
    "df_analysis"
   ]
  },
  {
   "cell_type": "code",
   "execution_count": 10,
   "metadata": {},
   "outputs": [
    {
     "output_type": "execute_result",
     "data": {
      "text/plain": [
       "injury              786\n",
       "illness             314\n",
       "personal_reasons     70\n",
       "Name: reason, dtype: int64"
      ]
     },
     "metadata": {},
     "execution_count": 10
    }
   ],
   "source": [
    "df_analysis['reason'].value_counts()"
   ]
  },
  {
   "source": [
    "The large majority of absence are due to injuries"
   ],
   "cell_type": "markdown",
   "metadata": {}
  },
  {
   "cell_type": "code",
   "execution_count": 11,
   "metadata": {},
   "outputs": [
    {
     "output_type": "execute_result",
     "data": {
      "text/plain": [
       "                       key       date        team             name  \\\n",
       "0       WilsonD20181017rel 2018-10-17       Bucks      D.J. Wilson   \n",
       "1        DuvalT20181017rel 2018-10-17       Bucks     Trevon Duval   \n",
       "2        SmithJ20181017rel 2018-10-17   Cavaliers       J.R. Smith   \n",
       "5     HamiltonD20181017rel 2018-10-17       Hawks  Daniel Hamilton   \n",
       "6       DedmonD20181017rel 2018-10-17       Hawks   Dewayne Dedmon   \n",
       "...                    ...        ...         ...              ...   \n",
       "1489    DurantK20190509rel 2019-05-09    Warriors     Kevin Durant   \n",
       "1491    DurantK20190510rel 2019-05-10    Warriors     Kevin Durant   \n",
       "1493    WilsonD20190519rel 2019-05-19       Bucks      D.J. Wilson   \n",
       "1494  IguodalaA20190520rel 2019-05-20    Warriors   Andre Iguodala   \n",
       "1497  ThompsonK20190605rel 2019-06-05    Warriors    Klay Thompson   \n",
       "\n",
       "                                                  notes  reason      type  \\\n",
       "0            placed on IL with strained right hamstring  injury  strained   \n",
       "1                                 left eye injury (DTD)  injury    injury   \n",
       "2                                sore right elbow (DTD)  injury      sore   \n",
       "5      torn rotator cuff in shoulder (out indefinitely)  injury      torn   \n",
       "6                   placed on IL with left ankle injury  injury    injury   \n",
       "...                                                 ...     ...       ...   \n",
       "1489                          strained right calf (DTD)  injury  strained   \n",
       "1491              placed on IL with strained right calf  injury  strained   \n",
       "1493                              sore left ankle (DTD)  injury      sore   \n",
       "1494                 placed on IL with left calf injury  injury    injury   \n",
       "1497                      strained left hamstring (DTD)  injury  strained   \n",
       "\n",
       "     injury_location  missed_days  missed_games return_date  \n",
       "0          hamstring         49.0          21.0  2018-12-05  \n",
       "1                eye        114.0          52.0  2019-02-08  \n",
       "2              elbow          2.0           0.0  2018-10-19  \n",
       "5           shoulder         14.0           6.0  2018-10-31  \n",
       "6              ankle          7.0           2.0  2018-10-24  \n",
       "...              ...          ...           ...         ...  \n",
       "1489            calf         32.0           9.0  2019-06-10  \n",
       "1491            calf         31.0           8.0  2019-06-10  \n",
       "1493           ankle          2.0           0.0  2019-05-21  \n",
       "1494            calf         10.0           0.0  2019-05-30  \n",
       "1497       hamstring          2.0           0.0  2019-06-07  \n",
       "\n",
       "[786 rows x 11 columns]"
      ],
      "text/html": "<div>\n<style scoped>\n    .dataframe tbody tr th:only-of-type {\n        vertical-align: middle;\n    }\n\n    .dataframe tbody tr th {\n        vertical-align: top;\n    }\n\n    .dataframe thead th {\n        text-align: right;\n    }\n</style>\n<table border=\"1\" class=\"dataframe\">\n  <thead>\n    <tr style=\"text-align: right;\">\n      <th></th>\n      <th>key</th>\n      <th>date</th>\n      <th>team</th>\n      <th>name</th>\n      <th>notes</th>\n      <th>reason</th>\n      <th>type</th>\n      <th>injury_location</th>\n      <th>missed_days</th>\n      <th>missed_games</th>\n      <th>return_date</th>\n    </tr>\n  </thead>\n  <tbody>\n    <tr>\n      <th>0</th>\n      <td>WilsonD20181017rel</td>\n      <td>2018-10-17</td>\n      <td>Bucks</td>\n      <td>D.J. Wilson</td>\n      <td>placed on IL with strained right hamstring</td>\n      <td>injury</td>\n      <td>strained</td>\n      <td>hamstring</td>\n      <td>49.0</td>\n      <td>21.0</td>\n      <td>2018-12-05</td>\n    </tr>\n    <tr>\n      <th>1</th>\n      <td>DuvalT20181017rel</td>\n      <td>2018-10-17</td>\n      <td>Bucks</td>\n      <td>Trevon Duval</td>\n      <td>left eye injury (DTD)</td>\n      <td>injury</td>\n      <td>injury</td>\n      <td>eye</td>\n      <td>114.0</td>\n      <td>52.0</td>\n      <td>2019-02-08</td>\n    </tr>\n    <tr>\n      <th>2</th>\n      <td>SmithJ20181017rel</td>\n      <td>2018-10-17</td>\n      <td>Cavaliers</td>\n      <td>J.R. Smith</td>\n      <td>sore right elbow (DTD)</td>\n      <td>injury</td>\n      <td>sore</td>\n      <td>elbow</td>\n      <td>2.0</td>\n      <td>0.0</td>\n      <td>2018-10-19</td>\n    </tr>\n    <tr>\n      <th>5</th>\n      <td>HamiltonD20181017rel</td>\n      <td>2018-10-17</td>\n      <td>Hawks</td>\n      <td>Daniel Hamilton</td>\n      <td>torn rotator cuff in shoulder (out indefinitely)</td>\n      <td>injury</td>\n      <td>torn</td>\n      <td>shoulder</td>\n      <td>14.0</td>\n      <td>6.0</td>\n      <td>2018-10-31</td>\n    </tr>\n    <tr>\n      <th>6</th>\n      <td>DedmonD20181017rel</td>\n      <td>2018-10-17</td>\n      <td>Hawks</td>\n      <td>Dewayne Dedmon</td>\n      <td>placed on IL with left ankle injury</td>\n      <td>injury</td>\n      <td>injury</td>\n      <td>ankle</td>\n      <td>7.0</td>\n      <td>2.0</td>\n      <td>2018-10-24</td>\n    </tr>\n    <tr>\n      <th>...</th>\n      <td>...</td>\n      <td>...</td>\n      <td>...</td>\n      <td>...</td>\n      <td>...</td>\n      <td>...</td>\n      <td>...</td>\n      <td>...</td>\n      <td>...</td>\n      <td>...</td>\n      <td>...</td>\n    </tr>\n    <tr>\n      <th>1489</th>\n      <td>DurantK20190509rel</td>\n      <td>2019-05-09</td>\n      <td>Warriors</td>\n      <td>Kevin Durant</td>\n      <td>strained right calf (DTD)</td>\n      <td>injury</td>\n      <td>strained</td>\n      <td>calf</td>\n      <td>32.0</td>\n      <td>9.0</td>\n      <td>2019-06-10</td>\n    </tr>\n    <tr>\n      <th>1491</th>\n      <td>DurantK20190510rel</td>\n      <td>2019-05-10</td>\n      <td>Warriors</td>\n      <td>Kevin Durant</td>\n      <td>placed on IL with strained right calf</td>\n      <td>injury</td>\n      <td>strained</td>\n      <td>calf</td>\n      <td>31.0</td>\n      <td>8.0</td>\n      <td>2019-06-10</td>\n    </tr>\n    <tr>\n      <th>1493</th>\n      <td>WilsonD20190519rel</td>\n      <td>2019-05-19</td>\n      <td>Bucks</td>\n      <td>D.J. Wilson</td>\n      <td>sore left ankle (DTD)</td>\n      <td>injury</td>\n      <td>sore</td>\n      <td>ankle</td>\n      <td>2.0</td>\n      <td>0.0</td>\n      <td>2019-05-21</td>\n    </tr>\n    <tr>\n      <th>1494</th>\n      <td>IguodalaA20190520rel</td>\n      <td>2019-05-20</td>\n      <td>Warriors</td>\n      <td>Andre Iguodala</td>\n      <td>placed on IL with left calf injury</td>\n      <td>injury</td>\n      <td>injury</td>\n      <td>calf</td>\n      <td>10.0</td>\n      <td>0.0</td>\n      <td>2019-05-30</td>\n    </tr>\n    <tr>\n      <th>1497</th>\n      <td>ThompsonK20190605rel</td>\n      <td>2019-06-05</td>\n      <td>Warriors</td>\n      <td>Klay Thompson</td>\n      <td>strained left hamstring (DTD)</td>\n      <td>injury</td>\n      <td>strained</td>\n      <td>hamstring</td>\n      <td>2.0</td>\n      <td>0.0</td>\n      <td>2019-06-07</td>\n    </tr>\n  </tbody>\n</table>\n<p>786 rows × 11 columns</p>\n</div>"
     },
     "metadata": {},
     "execution_count": 11
    }
   ],
   "source": [
    "injury_analysis = df_analysis[df_analysis['reason'] == 'injury']\n",
    "injury_analysis"
   ]
  },
  {
   "cell_type": "code",
   "execution_count": 12,
   "metadata": {},
   "outputs": [
    {
     "output_type": "execute_result",
     "data": {
      "text/plain": [
       "ankle         172\n",
       "knee          165\n",
       "back           64\n",
       "hamstring      51\n",
       "foot           42\n",
       "hip            39\n",
       "quadricep      27\n",
       "concussion     23\n",
       "toe            22\n",
       "shoulder       21\n",
       "groin          17\n",
       "calf           15\n",
       "thumb          12\n",
       "neck           12\n",
       "Achilles       11\n",
       "wrist          11\n",
       "finger         10\n",
       "adductor       10\n",
       "heel           10\n",
       "hand           10\n",
       "thigh           8\n",
       "elbow           8\n",
       "head            6\n",
       "leg             4\n",
       "eye             3\n",
       "nose            3\n",
       "abdominal       2\n",
       "oblique         2\n",
       "pelvis          2\n",
       "shin            1\n",
       "thoracic        1\n",
       "mouth           1\n",
       "tailbone        1\n",
       "Name: injury_location, dtype: int64"
      ]
     },
     "metadata": {},
     "execution_count": 12
    }
   ],
   "source": [
    "injury_analysis['injury_location'].value_counts()"
   ]
  },
  {
   "source": [
    "As expected, the ankle and knee are responsible of a large part of all injuries "
   ],
   "cell_type": "markdown",
   "metadata": {}
  },
  {
   "source": [
    "## Ankle Analysis "
   ],
   "cell_type": "markdown",
   "metadata": {}
  },
  {
   "cell_type": "code",
   "execution_count": 13,
   "metadata": {},
   "outputs": [
    {
     "output_type": "execute_result",
     "data": {
      "text/plain": [
       "                        key       date       team             name  \\\n",
       "6        DedmonD20181017rel 2018-10-17      Hawks   Dewayne Dedmon   \n",
       "8       WaitersD20181017rel 2018-10-17       Heat     Dion Waiters   \n",
       "11    EllingtonW20181017rel 2018-10-17       Heat  Wayne Ellington   \n",
       "17       MudiayE20181017rel 2018-10-17     Knicks  Emmanuel Mudiay   \n",
       "18        HicksI20181017rel 2018-10-17     Knicks     Isaiah Hicks   \n",
       "...                     ...        ...        ...              ...   \n",
       "1444     GobertR20190410rel 2019-04-10       Jazz      Rudy Gobert   \n",
       "1452     TurnerM20190410rel 2019-04-10     Pacers     Myles Turner   \n",
       "1462      CurryS20190410rel 2019-04-10   Warriors    Stephen Curry   \n",
       "1487     WilsonD20190508rel 2019-05-08      Bucks      D.J. Wilson   \n",
       "1493     WilsonD20190519rel 2019-05-19      Bucks      D.J. Wilson   \n",
       "\n",
       "                                                  notes  reason      type  \\\n",
       "6                   placed on IL with left ankle injury  injury    injury   \n",
       "8                   placed on IL with left ankle injury  injury    injury   \n",
       "11                                sore left ankle (DTD)  injury      sore   \n",
       "17               placed on IL with sprained right ankle  injury  sprained   \n",
       "18                placed on IL with sprained left ankle  injury  sprained   \n",
       "...                                                 ...     ...       ...   \n",
       "1444   placed on IL with sore left ankle (out for se...  injury      sore   \n",
       "1452                 placed on IL with sore right ankle  injury      sore   \n",
       "1462             placed on IL with sprained right ankle  injury  sprained   \n",
       "1487                          sprained left ankle (DTD)  injury  sprained   \n",
       "1493                              sore left ankle (DTD)  injury      sore   \n",
       "\n",
       "     injury_location  missed_days  missed_games return_date  \n",
       "6              ankle          7.0           2.0  2018-10-24  \n",
       "8              ankle         77.0          34.0  2019-01-02  \n",
       "11             ankle         10.0           3.0  2018-10-27  \n",
       "17             ankle         12.0           5.0  2018-10-29  \n",
       "18             ankle        107.0          49.0  2019-02-01  \n",
       "...              ...          ...           ...         ...  \n",
       "1444           ankle          4.0           0.0  2019-04-14  \n",
       "1452           ankle          3.0           0.0  2019-04-13  \n",
       "1462           ankle          2.0           0.0  2019-04-12  \n",
       "1487           ankle          9.0           1.0  2019-05-17  \n",
       "1493           ankle          2.0           0.0  2019-05-21  \n",
       "\n",
       "[172 rows x 11 columns]"
      ],
      "text/html": "<div>\n<style scoped>\n    .dataframe tbody tr th:only-of-type {\n        vertical-align: middle;\n    }\n\n    .dataframe tbody tr th {\n        vertical-align: top;\n    }\n\n    .dataframe thead th {\n        text-align: right;\n    }\n</style>\n<table border=\"1\" class=\"dataframe\">\n  <thead>\n    <tr style=\"text-align: right;\">\n      <th></th>\n      <th>key</th>\n      <th>date</th>\n      <th>team</th>\n      <th>name</th>\n      <th>notes</th>\n      <th>reason</th>\n      <th>type</th>\n      <th>injury_location</th>\n      <th>missed_days</th>\n      <th>missed_games</th>\n      <th>return_date</th>\n    </tr>\n  </thead>\n  <tbody>\n    <tr>\n      <th>6</th>\n      <td>DedmonD20181017rel</td>\n      <td>2018-10-17</td>\n      <td>Hawks</td>\n      <td>Dewayne Dedmon</td>\n      <td>placed on IL with left ankle injury</td>\n      <td>injury</td>\n      <td>injury</td>\n      <td>ankle</td>\n      <td>7.0</td>\n      <td>2.0</td>\n      <td>2018-10-24</td>\n    </tr>\n    <tr>\n      <th>8</th>\n      <td>WaitersD20181017rel</td>\n      <td>2018-10-17</td>\n      <td>Heat</td>\n      <td>Dion Waiters</td>\n      <td>placed on IL with left ankle injury</td>\n      <td>injury</td>\n      <td>injury</td>\n      <td>ankle</td>\n      <td>77.0</td>\n      <td>34.0</td>\n      <td>2019-01-02</td>\n    </tr>\n    <tr>\n      <th>11</th>\n      <td>EllingtonW20181017rel</td>\n      <td>2018-10-17</td>\n      <td>Heat</td>\n      <td>Wayne Ellington</td>\n      <td>sore left ankle (DTD)</td>\n      <td>injury</td>\n      <td>sore</td>\n      <td>ankle</td>\n      <td>10.0</td>\n      <td>3.0</td>\n      <td>2018-10-27</td>\n    </tr>\n    <tr>\n      <th>17</th>\n      <td>MudiayE20181017rel</td>\n      <td>2018-10-17</td>\n      <td>Knicks</td>\n      <td>Emmanuel Mudiay</td>\n      <td>placed on IL with sprained right ankle</td>\n      <td>injury</td>\n      <td>sprained</td>\n      <td>ankle</td>\n      <td>12.0</td>\n      <td>5.0</td>\n      <td>2018-10-29</td>\n    </tr>\n    <tr>\n      <th>18</th>\n      <td>HicksI20181017rel</td>\n      <td>2018-10-17</td>\n      <td>Knicks</td>\n      <td>Isaiah Hicks</td>\n      <td>placed on IL with sprained left ankle</td>\n      <td>injury</td>\n      <td>sprained</td>\n      <td>ankle</td>\n      <td>107.0</td>\n      <td>49.0</td>\n      <td>2019-02-01</td>\n    </tr>\n    <tr>\n      <th>...</th>\n      <td>...</td>\n      <td>...</td>\n      <td>...</td>\n      <td>...</td>\n      <td>...</td>\n      <td>...</td>\n      <td>...</td>\n      <td>...</td>\n      <td>...</td>\n      <td>...</td>\n      <td>...</td>\n    </tr>\n    <tr>\n      <th>1444</th>\n      <td>GobertR20190410rel</td>\n      <td>2019-04-10</td>\n      <td>Jazz</td>\n      <td>Rudy Gobert</td>\n      <td>placed on IL with sore left ankle (out for se...</td>\n      <td>injury</td>\n      <td>sore</td>\n      <td>ankle</td>\n      <td>4.0</td>\n      <td>0.0</td>\n      <td>2019-04-14</td>\n    </tr>\n    <tr>\n      <th>1452</th>\n      <td>TurnerM20190410rel</td>\n      <td>2019-04-10</td>\n      <td>Pacers</td>\n      <td>Myles Turner</td>\n      <td>placed on IL with sore right ankle</td>\n      <td>injury</td>\n      <td>sore</td>\n      <td>ankle</td>\n      <td>3.0</td>\n      <td>0.0</td>\n      <td>2019-04-13</td>\n    </tr>\n    <tr>\n      <th>1462</th>\n      <td>CurryS20190410rel</td>\n      <td>2019-04-10</td>\n      <td>Warriors</td>\n      <td>Stephen Curry</td>\n      <td>placed on IL with sprained right ankle</td>\n      <td>injury</td>\n      <td>sprained</td>\n      <td>ankle</td>\n      <td>2.0</td>\n      <td>0.0</td>\n      <td>2019-04-12</td>\n    </tr>\n    <tr>\n      <th>1487</th>\n      <td>WilsonD20190508rel</td>\n      <td>2019-05-08</td>\n      <td>Bucks</td>\n      <td>D.J. Wilson</td>\n      <td>sprained left ankle (DTD)</td>\n      <td>injury</td>\n      <td>sprained</td>\n      <td>ankle</td>\n      <td>9.0</td>\n      <td>1.0</td>\n      <td>2019-05-17</td>\n    </tr>\n    <tr>\n      <th>1493</th>\n      <td>WilsonD20190519rel</td>\n      <td>2019-05-19</td>\n      <td>Bucks</td>\n      <td>D.J. Wilson</td>\n      <td>sore left ankle (DTD)</td>\n      <td>injury</td>\n      <td>sore</td>\n      <td>ankle</td>\n      <td>2.0</td>\n      <td>0.0</td>\n      <td>2019-05-21</td>\n    </tr>\n  </tbody>\n</table>\n<p>172 rows × 11 columns</p>\n</div>"
     },
     "metadata": {},
     "execution_count": 13
    }
   ],
   "source": [
    "ankle_analysis = injury_analysis[injury_analysis['injury_location'] == 'ankle']\n",
    "ankle_analysis"
   ]
  },
  {
   "cell_type": "code",
   "execution_count": 14,
   "metadata": {},
   "outputs": [
    {
     "output_type": "execute_result",
     "data": {
      "text/plain": [
       "sprained    116\n",
       "sore         33\n",
       "injury       21\n",
       "surgery       2\n",
       "Name: type, dtype: int64"
      ]
     },
     "metadata": {},
     "execution_count": 14
    }
   ],
   "source": [
    "ankle_analysis['type'].value_counts()"
   ]
  },
  {
   "cell_type": "code",
   "execution_count": 15,
   "metadata": {},
   "outputs": [],
   "source": [
    "ankle_injury = list(ankle_analysis['type'].unique())"
   ]
  },
  {
   "cell_type": "code",
   "execution_count": 16,
   "metadata": {
    "tags": []
   },
   "outputs": [
    {
     "output_type": "stream",
     "name": "stdout",
     "text": [
      "injury 22.29\nsore 4.36\nsprained 10.70\nsurgery 40.00\n"
     ]
    }
   ],
   "source": [
    "for injury in ankle_injury: \n",
    "    missed_games = ankle_analysis[ankle_analysis['type'] == injury]['missed_days'].mean()\n",
    "    print(injury, \"%.2f\" % missed_games)"
   ]
  },
  {
   "source": [
    "The average number of missed days with each ankle injury type"
   ],
   "cell_type": "markdown",
   "metadata": {}
  }
 ]
}